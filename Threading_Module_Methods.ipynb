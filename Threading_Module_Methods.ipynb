{
 "cells": [
  {
   "cell_type": "markdown",
   "metadata": {},
   "source": [
    "__Setting and Getting Thread Name:__"
   ]
  },
  {
   "cell_type": "code",
   "execution_count": 40,
   "metadata": {},
   "outputs": [
    {
     "name": "stdout",
     "output_type": "stream",
     "text": [
      "MainThread\n",
      "MainThread\n"
     ]
    }
   ],
   "source": [
    "from threading import *\n",
    "print(current_thread().getName())\n",
    "current_thread().setName(\"MainThread\")\n",
    "print(current_thread().getName())\n"
   ]
  },
  {
   "cell_type": "code",
   "execution_count": 13,
   "metadata": {},
   "outputs": [],
   "source": [
    "#To get name\n",
    "from threading import *\n",
    "t =Thread()\n",
    "t.name\n",
    "t.getName()\n",
    "\n",
    "#to set name\n",
    "t.name = 'some_name'\n",
    "t.setName('some_name')"
   ]
  },
  {
   "cell_type": "markdown",
   "metadata": {},
   "source": [
    "__For every thread there is an unique id name is there:__"
   ]
  },
  {
   "cell_type": "code",
   "execution_count": 18,
   "metadata": {
    "collapsed": true
   },
   "outputs": [
    {
     "name": "stdout",
     "output_type": "stream",
     "text": [
      "Child\n",
      "\n",
      "Main Thread ID number: 19696\n",
      "\n",
      "Child Thread ID number:  12880\n",
      "\n"
     ]
    }
   ],
   "source": [
    "from threading import *\n",
    "def example():\n",
    "    print(\"Child\\n\")\n",
    "\n",
    "th = Thread(target=example)\n",
    "th.start()\n",
    "\n",
    "print(\"\\nMain Thread ID number: \" + str(current_thread().ident))\n",
    "print(\"\\nChild Thread ID number: \", th.ident)\n"
   ]
  },
  {
   "cell_type": "markdown",
   "metadata": {},
   "source": [
    "__To know how many current executing threads are there:__"
   ]
  },
  {
   "cell_type": "code",
   "execution_count": 24,
   "metadata": {
    "collapsed": true
   },
   "outputs": [
    {
     "name": "stdout",
     "output_type": "stream",
     "text": [
      "Before Child-thread creation, Active thread count:  5\n",
      "Child start\n",
      "\n",
      "During child thread execution, Active thread count:  6\n",
      "Child end\n",
      "\n",
      "After end of child-thread execution, Active thread count:  5\n"
     ]
    }
   ],
   "source": [
    "from threading import *\n",
    "import time\n",
    "def example():\n",
    "    print(\"Child start\\n\")\n",
    "    time.sleep(5)\n",
    "    print(\"During child thread execution, Active thread count: \", active_count())\n",
    "    print(\"Child end\\n\")\n",
    "print(\"Before Child-thread creation, Active thread count: \", active_count())\n",
    "th = Thread(target=example)\n",
    "th.start()\n",
    "th.join()\n",
    "print(\"After end of child-thread execution, Active thread count: \", active_count())"
   ]
  },
  {
   "cell_type": "markdown",
   "metadata": {},
   "source": [
    "__Enumerate Function in Threading:__"
   ]
  },
  {
   "cell_type": "code",
   "execution_count": 35,
   "metadata": {
    "collapsed": true
   },
   "outputs": [
    {
     "name": "stdout",
     "output_type": "stream",
     "text": [
      "\n",
      "Before Child-thread creation, Active thread count: 5\n",
      "<Thread(Thread-44, started 2580)>Child start\n",
      "\n",
      "<Thread(Thread-45, started 16848)>Child start\n",
      "\n",
      "<Thread(Thread-46, started 2460)>Child start\n",
      "Thread Name: MainThread\n",
      "MainThread ID: 19696\n",
      "\n",
      "Thread Name: Thread-4\n",
      "Thread-4 ID: 15668\n",
      "\n",
      "Thread Name: Thread-5\n",
      "Thread-5 ID: 19532\n",
      "\n",
      "Thread Name: IPythonHistorySavingThread\n",
      "IPythonHistorySavingThread ID: 17624\n",
      "\n",
      "Thread Name: Thread-3\n",
      "Thread-3 ID: 14768\n",
      "\n",
      "Thread Name: Thread-44\n",
      "Thread-44 ID: 2580\n",
      "\n",
      "Thread Name: Thread-45\n",
      "Thread-45 ID: 16848\n",
      "\n",
      "Thread Name: Thread-46\n",
      "Thread-46 ID: 2460\n",
      "\n",
      "\n",
      "\n",
      "During child thread execution, Active thread count: 8\n",
      "<Thread(Thread-44, started 2580)>Child end\n",
      "\n",
      "\n",
      "During child thread execution, Active thread count: 7\n",
      "<Thread(Thread-45, started 16848)>Child end\n",
      "\n",
      "\n",
      "During child thread execution, Active thread count: 6\n",
      "<Thread(Thread-46, started 2460)>Child end\n",
      "\n",
      "\n",
      "After end of child-thread execution, Active thread count: 5\n"
     ]
    }
   ],
   "source": [
    "from threading import *\n",
    "import time\n",
    "def example():\n",
    "    print(str(current_thread()) + \"Child start\\n\")\n",
    "    time.sleep(5)\n",
    "    print(\"\\nDuring child thread execution, Active thread count: \" + str(active_count()))\n",
    "    print(str(current_thread()) + \"Child end\\n\")\n",
    "print(\"\\nBefore Child-thread creation, Active thread count: \"+ str(active_count()))\n",
    "th1 = Thread(target=example)\n",
    "th2 = Thread(target=example)\n",
    "th3 = Thread(target=example)\n",
    "th1.start()\n",
    "th2.start()\n",
    "th3.start()\n",
    "list_of_thread = enumerate()\n",
    "for t in list_of_thread:\n",
    "    print(\"Thread Name: \" + str(t.name))\n",
    "    print(str(t.name) + \" ID: \" + str(t.ident) + \"\\n\")\n",
    "th1.join()\n",
    "th2.join()\n",
    "th3.join()\n",
    "\n",
    "print(\"\\nAfter end of child-thread execution, Active thread count: \" + str(active_count()))"
   ]
  },
  {
   "cell_type": "markdown",
   "metadata": {},
   "source": [
    "__How to Check if thread is alive or not?__"
   ]
  },
  {
   "cell_type": "code",
   "execution_count": 39,
   "metadata": {
    "collapsed": true
   },
   "outputs": [
    {
     "name": "stdout",
     "output_type": "stream",
     "text": [
      "Thread-50is Alive: False\n",
      "In Child.....\n",
      "\n",
      "Main Thread ID number: 19696\n",
      "Thread-50is Alive: True\n",
      "\n",
      "\n",
      "Child Thread ID number:  10468\n"
     ]
    }
   ],
   "source": [
    "from threading import *\n",
    "def example():\n",
    "    print(\"In Child.....\\n\")\n",
    "    print(th.name + \"is Alive: \" + str(th.isAlive()))\n",
    "\n",
    "th = Thread(target=example)\n",
    "print(th.name + \"is Alive: \" + str(th.isAlive()))\n",
    "th.start()\n",
    "\n",
    "print(\"\\nMain Thread ID number: \" + str(current_thread().ident))\n",
    "print(\"\\nChild Thread ID number: \", th.ident)\n"
   ]
  },
  {
   "cell_type": "markdown",
   "metadata": {},
   "source": [
    "__Example for join() method:__"
   ]
  },
  {
   "cell_type": "markdown",
   "metadata": {},
   "source": [
    "<font color=green>Let's assume a real time example of arranging a family function to understand the concept of join() method even better. Say you are planing for a party.The things should happen in the follwoing order:</font>\n",
    "\n",
    "    1. Finalizing the venue\n",
    "    2. Creating a draft of the party invite and printing\n",
    "    3. Sending invite by physical mail\n",
    "    \n",
    "<font color=green>Sometimes timelimit is there, in that particular case, one may pass the time limit to the join method.<br>\n",
    "<font color=violet>Ex; t.join(10)</font>\n",
    "<br>Here the main thread will wait for 10 second, irrespective of thread _t_'s executions completes or not, the main thread resumes the further execution.</font>\n"
   ]
  },
  {
   "cell_type": "markdown",
   "metadata": {},
   "source": []
  }
 ],
 "metadata": {
  "kernelspec": {
   "display_name": "Python 3",
   "language": "python",
   "name": "python3"
  },
  "language_info": {
   "codemirror_mode": {
    "name": "ipython",
    "version": 3
   },
   "file_extension": ".py",
   "mimetype": "text/x-python",
   "name": "python",
   "nbconvert_exporter": "python",
   "pygments_lexer": "ipython3",
   "version": "3.6.5"
  }
 },
 "nbformat": 4,
 "nbformat_minor": 2
}
