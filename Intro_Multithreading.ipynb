{
 "cells": [
  {
   "cell_type": "markdown",
   "metadata": {},
   "source": [
    "# Threading"
   ]
  },
  {
   "cell_type": "code",
   "execution_count": 2,
   "metadata": {},
   "outputs": [
    {
     "name": "stdout",
     "output_type": "stream",
     "text": [
      "<_MainThread(MainThread, started 6428)>\n",
      "<_MainThread(MainThread, started 6428)>\n"
     ]
    }
   ],
   "source": [
    "import threading\n",
    "print(threading.current_thread())\n",
    "\n",
    "from threading import *\n",
    "print(current_thread())"
   ]
  },
  {
   "cell_type": "markdown",
   "metadata": {},
   "source": [
    "__By Extending Thread Class:__"
   ]
  },
  {
   "cell_type": "code",
   "execution_count": 26,
   "metadata": {
    "collapsed": true
   },
   "outputs": [
    {
     "name": "stdout",
     "output_type": "stream",
     "text": [
      "Hey there.... Child Thread...!!!\n",
      "Hey there.... Main Thread...!!!\n",
      "\n",
      "Hey there.... Child Thread...!!!\n",
      "\n",
      "Hey there.... Child Thread...!!!\n",
      "\n",
      "Hey there.... Child Thread...!!!\n",
      "\n",
      "Hey there.... Child Thread...!!!\n",
      "\n",
      "Hey there.... Child Thread...!!!\n",
      "\n",
      "Hey there.... Child Thread...!!!\n",
      "\n",
      "Hey there.... Child Thread...!!!\n",
      "\n",
      "Hey there.... Child Thread...!!!\n",
      "\n",
      "\n",
      "Hey there.... Child Thread...!!!\n",
      "\n",
      "Hey there.... Main Thread...!!!\n",
      "\n",
      "Hey there.... Main Thread...!!!\n",
      "\n",
      "Hey there.... Main Thread...!!!\n",
      "\n",
      "Hey there.... Main Thread...!!!\n",
      "\n",
      "Hey there.... Main Thread...!!!\n",
      "\n",
      "Hey there.... Main Thread...!!!\n",
      "\n",
      "Hey there.... Main Thread...!!!\n",
      "\n",
      "Hey there.... Main Thread...!!!\n",
      "\n",
      "Hey there.... Main Thread...!!!\n",
      "\n"
     ]
    }
   ],
   "source": [
    "from threading import *\n",
    "class CustomizedThread(Thread):\n",
    "    def run(self):\n",
    "        for i in range(10):\n",
    "            print(\"Hey there.... Child Thread...!!!\\n\")\n",
    "t = CustomizedThread()\n",
    "t.start()\n",
    "for i in range(10):\n",
    "    print(\"Hey there.... Main Thread...!!!\\n\")"
   ]
  },
  {
   "cell_type": "markdown",
   "metadata": {},
   "source": [
    "__Without extending Thread Class:__"
   ]
  },
  {
   "cell_type": "code",
   "execution_count": 24,
   "metadata": {
    "collapsed": true
   },
   "outputs": [
    {
     "name": "stdout",
     "output_type": "stream",
     "text": [
      "Some Childish Actions ;)\n",
      "Main Thread\n",
      "\n",
      "Some Childish Actions ;)\n",
      "\n",
      "Some Childish Actions ;)\n",
      "\n",
      "Some Childish Actions ;)\n",
      "\n",
      "Some Childish Actions ;)\n",
      "\n",
      "Some Childish Actions ;)\n",
      "\n",
      "Some Childish Actions ;)\n",
      "\n",
      "Some Childish Actions ;)\n",
      "\n",
      "Some Childish Actions ;)\n",
      "\n",
      "Some Childish Actions ;)\n",
      "\n",
      "\n",
      "Main Thread\n",
      "\n",
      "Main Thread\n",
      "\n",
      "Main Thread\n",
      "\n",
      "Main Thread\n",
      "\n",
      "Main Thread\n",
      "\n",
      "Main Thread\n",
      "\n",
      "Main Thread\n",
      "\n",
      "Main Thread\n",
      "\n",
      "Main Thread\n",
      "\n"
     ]
    }
   ],
   "source": [
    "from threading import *\n",
    "def target_method():\n",
    "    for i in  range(10):\n",
    "        print(\"Some Childish Actions ;)\\n\")\n",
    "t = Thread(target=target_method)\n",
    "t.start()\n",
    "for i in range(10):\n",
    "    print(\"Main Thread\\n\")"
   ]
  },
  {
   "cell_type": "markdown",
   "metadata": {},
   "source": [
    "__Comparision between execution time for with Threading/ without Threading:__ "
   ]
  },
  {
   "cell_type": "code",
   "execution_count": 94,
   "metadata": {
    "collapsed": true
   },
   "outputs": [
    {
     "name": "stdout",
     "output_type": "stream",
     "text": [
      "cube:  1\n",
      "cube:  8\n",
      "cube:  27\n",
      "cube:  64\n",
      "cube:  125\n",
      "cube:  216\n",
      "square root:  1.0\n",
      "square root:  1.4142135623730951\n",
      "square root:  1.7320508075688772\n",
      "square root:  2.0\n",
      "square root:  2.23606797749979\n",
      "square root:  2.449489742783178\n",
      "\n",
      "TIME TAKEN:  12.006039142608643\n"
     ]
    }
   ],
   "source": [
    "import time\n",
    "import math\n",
    "\n",
    "def calculate_cubes(nums):\n",
    "    for number in nums:\n",
    "        time.sleep(1)\n",
    "        print(\"cube: \", number*number*number)\n",
    "        \n",
    "def calculate_square_roots(nums):\n",
    "    for number in nums:\n",
    "        time.sleep(1)\n",
    "        print(\"square root: \", math.sqrt(number))\n",
    "        \n",
    "nums = [1,2,3,4,5,6]\n",
    "start_time = time.time()\n",
    "calculate_cubes(nums)\n",
    "calculate_square_roots(nums)\n",
    "(nums)\n",
    "end_time = time.time()\n",
    "print(\"\\nTIME TAKEN: \", (end_time-start_time))"
   ]
  },
  {
   "cell_type": "code",
   "execution_count": 96,
   "metadata": {
    "collapsed": true
   },
   "outputs": [
    {
     "name": "stdout",
     "output_type": "stream",
     "text": [
      "cube: square root:  1.0\n",
      " 1\n",
      "square root: cube:  1.4142135623730951\n",
      " 8\n",
      "cube: square root:  1.7320508075688772\n",
      " 27\n",
      "cube: square root:  2.0 64\n",
      "\n",
      "cube: square root:  125\n",
      " 2.23606797749979\n",
      "square root: cube:  216\n",
      " 2.449489742783178\n",
      "cube:  343\n",
      "square root:  2.6457513110645907\n",
      "cube: square root:  2.8284271247461903\n",
      " 512\n",
      "square root:  3.0\n",
      "cube:  729\n",
      "\n",
      "TIME TAKEN:  9.037222385406494\n"
     ]
    }
   ],
   "source": [
    "import time\n",
    "import math\n",
    "\n",
    "def calculate_cubes(nums):\n",
    "    for number in nums:\n",
    "        time.sleep(1)\n",
    "        print(\"cube: \", number*number*number)\n",
    "    \n",
    "def calculate_square_roots(nums):\n",
    "    for number in nums:\n",
    "        time.sleep(1)\n",
    "        print(\"square root: \", math.sqrt(number))\n",
    "\n",
    "nums = [1,2,3,4,5,6,7,8,9]\n",
    "t1 = Thread(target=calculate_cubes, args = (nums,))\n",
    "t2 = Thread(target=calculate_square_roots, args = (nums,))\n",
    "start_time = time.time()\n",
    "t1.start()\n",
    "t2.start()\n",
    "t1.join()\n",
    "t2.join()\n",
    "end_time = time.time()\n",
    "print(\"\\nTIME TAKEN: \", (end_time-start_time))"
   ]
  }
 ],
 "metadata": {
  "kernelspec": {
   "display_name": "Python 3",
   "language": "python",
   "name": "python3"
  },
  "language_info": {
   "codemirror_mode": {
    "name": "ipython",
    "version": 3
   },
   "file_extension": ".py",
   "mimetype": "text/x-python",
   "name": "python",
   "nbconvert_exporter": "python",
   "pygments_lexer": "ipython3",
   "version": "3.6.5"
  }
 },
 "nbformat": 4,
 "nbformat_minor": 2
}
